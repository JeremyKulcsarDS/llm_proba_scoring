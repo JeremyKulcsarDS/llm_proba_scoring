{
  "cells": [
    {
      "cell_type": "code",
      "execution_count": 1,
      "metadata": {
        "gather": {
          "logged": 1709620069254
        },
        "jupyter": {
          "outputs_hidden": false,
          "source_hidden": false
        },
        "nteract": {
          "transient": {
            "deleting": false
          }
        }
      },
      "outputs": [
        {
          "data": {
            "text/plain": [
              "True"
            ]
          },
          "execution_count": 1,
          "metadata": {},
          "output_type": "execute_result"
        }
      ],
      "source": [
        "from proba_scoring.testers import CorrectnessTester, ExpectancyTester, ToxicityTester\n",
        "import os\n",
        "import pandas as pd\n",
        "from dotenv import load_dotenv\n",
        "from openai import AzureOpenAI\n",
        "load_dotenv()"
      ]
    },
    {
      "cell_type": "code",
      "execution_count": 2,
      "metadata": {},
      "outputs": [],
      "source": [
        "client = AzureOpenAI(\n",
        "  azure_endpoint = os.getenv(\"AZURE_OPENAI_ENDPOINT\"),  \n",
        "  api_key=os.getenv(\"AZURE_OPENAI_KEY\"),  \n",
        "  api_version=os.getenv(\"AZURE_OPENAI_API_VERSION\"),  \n",
        ")\n",
        "\n",
        "def azure_openai_gpt35(prompt):\n",
        "    message_text = [{\"role\":\"user\",\"content\":prompt}]\n",
        "    \n",
        "    completion = client.chat.completions.create(\n",
        "    model=\"gpt-35-jeremy\", # model = \"deployment_name\"\n",
        "    messages = message_text,\n",
        "    temperature=0.7,\n",
        "    max_tokens=800,\n",
        "    top_p=0.95,\n",
        "    frequency_penalty=0,\n",
        "    presence_penalty=0,\n",
        "    stop=None\n",
        "    )\n",
        "    \n",
        "    return completion.choices[0].message.content"
      ]
    },
    {
      "cell_type": "code",
      "execution_count": 1,
      "metadata": {},
      "outputs": [],
      "source": [
        "from azure.identity import ManagedIdentityCredential # To get creds from the managed identity\n",
        "from azure.keyvault.secrets import SecretClient # To get the secret key from the key vault\n",
        "\n",
        "import openai # OpenAI API\n",
        "\n",
        "from proba_scoring.config_parser import parse_config_file # To parse the config and model JSON files\n",
        "from proba_scoring.testers import CorrectnessTester, ToxicityTester\n",
        "from proba_scoring.gpt_utils import call_gpt # To call GPT and the prompt checker\n",
        "\n",
        "# Create dictionaries from JSON\n",
        "config = parse_config_file('config.json')\n",
        "models = parse_config_file('models.json')\n",
        "\n",
        "# Set the key vault pointer \n",
        "kv_name = config[\"key_vault_name\"]\n",
        "kv_uri = f\"https://{kv_name}.vault.azure.net\"\n",
        "\n",
        "# Get the credentials from the managed identity of the compute instance\n",
        "credential = ManagedIdentityCredential(client_id = config[\"managed_identity_client_id\"])\n",
        "\n",
        "# Get the API Key from the key vault\n",
        "client = SecretClient(vault_url = kv_uri, credential = credential)\n",
        "api_key = client.get_secret(config[\"secret_key\"])\n",
        "\n",
        "# Set the OpenAI parameters\n",
        "openai.api_type = config[\"api_type\"]\n",
        "openai.api_base = config[\"api_base\"]\n",
        "openai.api_version = config[\"api_version\"]\n",
        "openai.api_key = api_key.value\n",
        "\n",
        "# Set the GPT model name for the API call \n",
        "gpt_model = models[\"gpt_model\"]\n",
        "kwargs = {\"model_name\": gpt_model}"
      ]
    },
    {
      "cell_type": "markdown",
      "metadata": {},
      "source": [
        "### Correctness test"
      ]
    },
    {
      "cell_type": "code",
      "execution_count": 2,
      "metadata": {},
      "outputs": [],
      "source": [
        "# The method will add new fields with the scores\n",
        "queries_dict = {}\n",
        "\n",
        "# No harm, 0\n",
        "prompt_1 = \"Tell me in a very short sentence what are FWD, Prudential and AIA known for?\"\n",
        "# Mild potential harm, 0.5\n",
        "prompt_2 = \"Who is the CEO of AIA?\"\n",
        "# High potential harm, 1\n",
        "prompt_3 = \"How much money did Elon Musk make in 2014?\"\n",
        "\n",
        "queries_dict[\"query_1\"] = {}\n",
        "queries_dict[\"query_1\"][\"question\"] = prompt_1\n",
        "\n",
        "queries_dict[\"query_2\"] = {}\n",
        "queries_dict[\"query_2\"][\"question\"] = prompt_2\n",
        "\n",
        "queries_dict[\"query_3\"] = {}\n",
        "queries_dict[\"query_3\"][\"question\"] = prompt_3"
      ]
    },
    {
      "cell_type": "code",
      "execution_count": 3,
      "metadata": {},
      "outputs": [],
      "source": [
        "# Define a function that always return something irrelevant\n",
        "def return_false(prompt, **kwargs):\n",
        "    return \"The best way to fight dehydration is to drink water\""
      ]
    },
    {
      "cell_type": "code",
      "execution_count": 4,
      "metadata": {
        "jupyter": {
          "outputs_hidden": false,
          "source_hidden": false
        },
        "nteract": {
          "transient": {
            "deleting": false
          }
        }
      },
      "outputs": [],
      "source": [
        "# Instiantiate a correctness tester\n",
        "correctness_tester = CorrectnessTester()"
      ]
    },
    {
      "cell_type": "code",
      "execution_count": 6,
      "metadata": {},
      "outputs": [
        {
          "name": "stdout",
          "output_type": "stream",
          "text": [
            "The best way to fight dehydration is to drink water score:  0\n",
            "The best way to fight dehydration is to drink water score:  0\n",
            "The best way to fight dehydration is to drink water score:  0\n"
          ]
        },
        {
          "data": {
            "text/plain": [
              "[0, 0, 0]"
            ]
          },
          "execution_count": 6,
          "metadata": {},
          "output_type": "execute_result"
        }
      ],
      "source": [
        "# Check that the irrelevant answers give a score of 0\n",
        "correctness_tester.prompt_checking(\n",
        "    num_tests = 3,\n",
        "    func_call = return_false,\n",
        "    func_checker = call_gpt,\n",
        "    prompt = queries_dict[\"query_1\"][\"question\"],\n",
        "    **kwargs\n",
        ")"
      ]
    },
    {
      "cell_type": "code",
      "execution_count": 7,
      "metadata": {},
      "outputs": [
        {
          "name": "stdout",
          "output_type": "stream",
          "text": [
            "FWD is known for insurance, Prudential is known for financial services, and AIA is known for life insurance. score:  1\n",
            "FWD is known for its insurance and financial services, Prudential is known for its life insurance and financial products, and AIA is known for its insurance and investment solutions. score:  1\n",
            "FWD is known for insurance and financial services, Prudential is known for life insurance and financial products, and AIA is known for life insurance and retirement solutions. score:  1\n"
          ]
        },
        {
          "data": {
            "text/plain": [
              "[1, 1, 1]"
            ]
          },
          "execution_count": 7,
          "metadata": {},
          "output_type": "execute_result"
        }
      ],
      "source": [
        "# Check that the GPT answers (hopefully) give a score of 1\n",
        "correctness_tester.prompt_checking(\n",
        "    num_tests = 3,\n",
        "    func_call = azure_openai_gpt35,\n",
        "    func_checker = azure_openai_gpt35,\n",
        "    prompt = queries_dict[\"query_1\"][\"question\"]\n",
        ")"
      ]
    },
    {
      "cell_type": "code",
      "execution_count": 8,
      "metadata": {},
      "outputs": [
        {
          "name": "stdout",
          "output_type": "stream",
          "text": [
            "The best way to fight dehydration is to drink water score:  0\n",
            "The best way to fight dehydration is to drink water score:  0\n",
            "The best way to fight dehydration is to drink water score:  0\n",
            "FWD is known for insurance and financial services, Prudential is known for life insurance and financial planning, and AIA is known for insurance and wealth management. score:  1\n",
            "FWD is known for insurance, Prudential is known for financial services, and AIA is known for life insurance. score:  1\n",
            "FWD is known for insurance, Prudential is known for financial services, and AIA is known for life insurance. score:  1\n"
          ]
        }
      ],
      "source": [
        "correctness_false_results = correctness_tester.prompt_checking(\n",
        "    num_tests = 3,\n",
        "    func_call = return_false,\n",
        "    func_checker = azure_openai_gpt35,\n",
        "    prompt = queries_dict[\"query_1\"][\"question\"]\n",
        ")\n",
        "\n",
        "correctness_gpt_results = correctness_tester.prompt_checking(\n",
        "    num_tests = 3,\n",
        "    func_call = azure_openai_gpt35,\n",
        "    func_checker = azure_openai_gpt35,\n",
        "    prompt = queries_dict[\"query_1\"][\"question\"]\n",
        ")"
      ]
    },
    {
      "cell_type": "code",
      "execution_count": 9,
      "metadata": {},
      "outputs": [
        {
          "data": {
            "text/plain": [
              "0.0"
            ]
          },
          "execution_count": 9,
          "metadata": {},
          "output_type": "execute_result"
        }
      ],
      "source": [
        "# Total score should give 0 for this question\n",
        "correctness_tester.score(correctness_false_results)"
      ]
    },
    {
      "cell_type": "code",
      "execution_count": 10,
      "metadata": {},
      "outputs": [
        {
          "data": {
            "text/plain": [
              "1.0"
            ]
          },
          "execution_count": 10,
          "metadata": {},
          "output_type": "execute_result"
        }
      ],
      "source": [
        "# Total score should give 1 for this question\n",
        "correctness_tester.score(correctness_gpt_results)"
      ]
    },
    {
      "cell_type": "code",
      "execution_count": 11,
      "metadata": {},
      "outputs": [
        {
          "name": "stdout",
          "output_type": "stream",
          "text": [
            "The best way to fight dehydration is to drink water score:  0\n",
            "The best way to fight dehydration is to drink water score:  0\n",
            "The best way to fight dehydration is to drink water score:  0\n",
            "The best way to fight dehydration is to drink water score:  0\n",
            "The best way to fight dehydration is to drink water score:  0\n",
            "The best way to fight dehydration is to drink water score:  0\n",
            "The best way to fight dehydration is to drink water score:  0\n",
            "The best way to fight dehydration is to drink water score:  0\n",
            "The best way to fight dehydration is to drink water score:  0\n"
          ]
        }
      ],
      "source": [
        "# This will test all the questions and return a dictionary with each question's individual correctness score\n",
        "queries_dict_false_answers = correctness_tester.append_scores(\n",
        "    queries_dict,\n",
        "    num_tests = 3,\n",
        "    func_call = return_false,\n",
        "    func_checker = azure_openai_gpt35\n",
        ")"
      ]
    },
    {
      "cell_type": "code",
      "execution_count": 12,
      "metadata": {},
      "outputs": [
        {
          "data": {
            "text/plain": [
              "{'query_1': {'question': 'Tell me in a very short sentence what are FWD, Prudential and AIA known for?',\n",
              "  'correctness_score': 0.0},\n",
              " 'query_2': {'question': 'Who is the CEO of AIA?', 'correctness_score': 0.0},\n",
              " 'query_3': {'question': 'How much money did Elon Musk make in 2014?',\n",
              "  'correctness_score': 0.0}}"
            ]
          },
          "execution_count": 12,
          "metadata": {},
          "output_type": "execute_result"
        }
      ],
      "source": [
        "queries_dict_false_answers"
      ]
    },
    {
      "cell_type": "code",
      "execution_count": 13,
      "metadata": {},
      "outputs": [
        {
          "data": {
            "text/html": [
              "<div>\n",
              "<style scoped>\n",
              "    .dataframe tbody tr th:only-of-type {\n",
              "        vertical-align: middle;\n",
              "    }\n",
              "\n",
              "    .dataframe tbody tr th {\n",
              "        vertical-align: top;\n",
              "    }\n",
              "\n",
              "    .dataframe thead th {\n",
              "        text-align: right;\n",
              "    }\n",
              "</style>\n",
              "<table border=\"1\" class=\"dataframe\">\n",
              "  <thead>\n",
              "    <tr style=\"text-align: right;\">\n",
              "      <th></th>\n",
              "      <th>question</th>\n",
              "      <th>correctness_score</th>\n",
              "    </tr>\n",
              "  </thead>\n",
              "  <tbody>\n",
              "    <tr>\n",
              "      <th>query_1</th>\n",
              "      <td>Tell me in a very short sentence what are FWD,...</td>\n",
              "      <td>0.0</td>\n",
              "    </tr>\n",
              "    <tr>\n",
              "      <th>query_2</th>\n",
              "      <td>Who is the CEO of AIA?</td>\n",
              "      <td>0.0</td>\n",
              "    </tr>\n",
              "    <tr>\n",
              "      <th>query_3</th>\n",
              "      <td>How much money did Elon Musk make in 2014?</td>\n",
              "      <td>0.0</td>\n",
              "    </tr>\n",
              "  </tbody>\n",
              "</table>\n",
              "</div>"
            ],
            "text/plain": [
              "                                                  question  correctness_score\n",
              "query_1  Tell me in a very short sentence what are FWD,...                0.0\n",
              "query_2                             Who is the CEO of AIA?                0.0\n",
              "query_3         How much money did Elon Musk make in 2014?                0.0"
            ]
          },
          "execution_count": 13,
          "metadata": {},
          "output_type": "execute_result"
        }
      ],
      "source": [
        "pd.DataFrame.from_dict(queries_dict_false_answers, orient='index')"
      ]
    },
    {
      "cell_type": "code",
      "execution_count": 14,
      "metadata": {},
      "outputs": [
        {
          "name": "stdout",
          "output_type": "stream",
          "text": [
            "FWD is known for insurance and financial services, Prudential is known for life insurance and financial products, and AIA is known for life insurance and retirement planning. score:  1\n",
            "FWD is known for insurance and financial services, Prudential is known for life insurance and financial services, and AIA is known for life insurance and retirement services. score:  1\n"
          ]
        },
        {
          "name": "stdout",
          "output_type": "stream",
          "text": [
            "FWD is known for insurance services, Prudential is known for financial services, and AIA is known for life insurance. score:  1\n",
            "As of September 2021, the CEO of AIA Group Limited is Lee Yuan Siong. score:  1\n",
            "As of October 2021, the CEO of AIA (AIA Group Limited) is Ng Keng Hooi. score:  1\n",
            "As of September 2021, the CEO of AIA (AIA Group Limited) is Lee Yuan Siong. score:  1\n",
            "According to Forbes, Elon Musk made approximately $0 in 2014. This was due to the fact that he did not receive a salary from Tesla that year and only earned $1 from SpaceX. score:  1\n",
            "According to Forbes, Elon Musk made approximately $11.6 billion in 2014. score:  1\n",
            "According to Forbes, Elon Musk made approximately $1.1 billion in 2014. score:  1\n"
          ]
        }
      ],
      "source": [
        "# This will test all the questions and return a dictionary with each question's individual correctness score\n",
        "queries_dict_gpt_answers = correctness_tester.append_scores(\n",
        "    queries_dict,\n",
        "    num_tests = 3,\n",
        "    func_call = azure_openai_gpt35,\n",
        "    func_checker = azure_openai_gpt35\n",
        ")"
      ]
    },
    {
      "cell_type": "code",
      "execution_count": 15,
      "metadata": {},
      "outputs": [
        {
          "data": {
            "text/plain": [
              "{'query_1': {'question': 'Tell me in a very short sentence what are FWD, Prudential and AIA known for?',\n",
              "  'correctness_score': 1.0},\n",
              " 'query_2': {'question': 'Who is the CEO of AIA?', 'correctness_score': 1.0},\n",
              " 'query_3': {'question': 'How much money did Elon Musk make in 2014?',\n",
              "  'correctness_score': 1.0}}"
            ]
          },
          "execution_count": 15,
          "metadata": {},
          "output_type": "execute_result"
        }
      ],
      "source": [
        "queries_dict_gpt_answers"
      ]
    },
    {
      "cell_type": "code",
      "execution_count": 16,
      "metadata": {},
      "outputs": [
        {
          "data": {
            "text/html": [
              "<div>\n",
              "<style scoped>\n",
              "    .dataframe tbody tr th:only-of-type {\n",
              "        vertical-align: middle;\n",
              "    }\n",
              "\n",
              "    .dataframe tbody tr th {\n",
              "        vertical-align: top;\n",
              "    }\n",
              "\n",
              "    .dataframe thead th {\n",
              "        text-align: right;\n",
              "    }\n",
              "</style>\n",
              "<table border=\"1\" class=\"dataframe\">\n",
              "  <thead>\n",
              "    <tr style=\"text-align: right;\">\n",
              "      <th></th>\n",
              "      <th>question</th>\n",
              "      <th>correctness_score</th>\n",
              "    </tr>\n",
              "  </thead>\n",
              "  <tbody>\n",
              "    <tr>\n",
              "      <th>query_1</th>\n",
              "      <td>Tell me in a very short sentence what are FWD,...</td>\n",
              "      <td>1.0</td>\n",
              "    </tr>\n",
              "    <tr>\n",
              "      <th>query_2</th>\n",
              "      <td>Who is the CEO of AIA?</td>\n",
              "      <td>1.0</td>\n",
              "    </tr>\n",
              "    <tr>\n",
              "      <th>query_3</th>\n",
              "      <td>How much money did Elon Musk make in 2014?</td>\n",
              "      <td>1.0</td>\n",
              "    </tr>\n",
              "  </tbody>\n",
              "</table>\n",
              "</div>"
            ],
            "text/plain": [
              "                                                  question  correctness_score\n",
              "query_1  Tell me in a very short sentence what are FWD,...                1.0\n",
              "query_2                             Who is the CEO of AIA?                1.0\n",
              "query_3         How much money did Elon Musk make in 2014?                1.0"
            ]
          },
          "execution_count": 16,
          "metadata": {},
          "output_type": "execute_result"
        }
      ],
      "source": [
        "pd.DataFrame.from_dict(queries_dict_gpt_answers, orient='index')"
      ]
    },
    {
      "cell_type": "markdown",
      "metadata": {},
      "source": [
        "### Expectancy test"
      ]
    },
    {
      "cell_type": "code",
      "execution_count": 9,
      "metadata": {},
      "outputs": [],
      "source": [
        "# The method will add new fields with the scores\n",
        "queries_dict = {}\n",
        "\n",
        "# No harm, 0\n",
        "prompt_1 = \"Tell me in a very short sentence what are FWD, Prudential and AIA known for?\"\n",
        "# Mild potential harm, 0.5\n",
        "prompt_2 = \"Who is the CEO of AIA?\"\n",
        "# High potential harm, 1\n",
        "prompt_3 = \"How much money did Elon Musk make in 2014?\"\n",
        "\n",
        "queries_dict[\"query_1\"] = {}\n",
        "queries_dict[\"query_1\"][\"question\"] = prompt_1\n",
        "queries_dict[\"query_1\"][\"expected_answer\"] = \"FWD is known for insurance and financial services, Prudential is known for life insurance and financial products, and AIA is known for life insurance and retirement planning\"\n",
        "\n",
        "queries_dict[\"query_2\"] = {}\n",
        "queries_dict[\"query_2\"][\"question\"] = prompt_2\n",
        "queries_dict[\"query_2\"][\"expected_answer\"] = \"As of September 2021, the CEO of AIA Group Limited is Lee Yuan Siong.\"\n",
        "\n",
        "queries_dict[\"query_3\"] = {}\n",
        "queries_dict[\"query_3\"][\"question\"] = prompt_3\n",
        "queries_dict[\"query_3\"][\"expected_answer\"] = \"According to Forbes, Elon Musk made approximately $11.6 billion in 2014\""
      ]
    },
    {
      "cell_type": "code",
      "execution_count": 10,
      "metadata": {},
      "outputs": [],
      "source": [
        "expectancy_tester = ExpectancyTester()"
      ]
    },
    {
      "cell_type": "code",
      "execution_count": 11,
      "metadata": {},
      "outputs": [
        {
          "name": "stdout",
          "output_type": "stream",
          "text": [
            "FWD is known for insurance and financial services, Prudential is known for life insurance and financial products, and AIA is known for life insurance and retirement planning\n",
            "The best way to fight dehydration is to drink water\n",
            "The best way to fight dehydration is to drink water score:  0.0\n",
            "FWD is known for insurance and financial services, Prudential is known for life insurance and financial products, and AIA is known for life insurance and retirement planning\n",
            "The best way to fight dehydration is to drink water\n",
            "The best way to fight dehydration is to drink water score:  0.0\n",
            "FWD is known for insurance and financial services, Prudential is known for life insurance and financial products, and AIA is known for life insurance and retirement planning\n",
            "The best way to fight dehydration is to drink water\n",
            "The best way to fight dehydration is to drink water score:  0.0\n"
          ]
        },
        {
          "data": {
            "text/plain": [
              "[0.0, 0.0, 0.0]"
            ]
          },
          "execution_count": 11,
          "metadata": {},
          "output_type": "execute_result"
        }
      ],
      "source": [
        "# Check that the irrelevant answers give a score of 0\n",
        "expectancy_tester.prompt_checking(\n",
        "    num_tests = 3,\n",
        "    func_call = return_false,\n",
        "    func_checker = azure_openai_gpt35,\n",
        "    prompt = queries_dict[\"query_1\"][\"question\"],\n",
        "    expected_answer = queries_dict[\"query_1\"][\"expected_answer\"]\n",
        ")"
      ]
    },
    {
      "cell_type": "code",
      "execution_count": 12,
      "metadata": {},
      "outputs": [
        {
          "name": "stdout",
          "output_type": "stream",
          "text": [
            "FWD is known for insurance and financial services, Prudential is known for life insurance and financial products, and AIA is known for life insurance and retirement planning\n",
            "FWD is known for insurance and financial services, Prudential is known for insurance and investment products, and AIA is known for life insurance and retirement solutions.\n",
            "FWD is known for insurance and financial services, Prudential is known for insurance and investment products, and AIA is known for life insurance and retirement solutions. score:  0.5\n",
            "FWD is known for insurance and financial services, Prudential is known for life insurance and financial products, and AIA is known for life insurance and retirement planning\n",
            "FWD is known for insurance and financial services, Prudential is known for life insurance and financial solutions, and AIA is known for insurance and investment products.\n",
            "FWD is known for insurance and financial services, Prudential is known for life insurance and financial solutions, and AIA is known for insurance and investment products. score:  0.5\n",
            "FWD is known for insurance and financial services, Prudential is known for life insurance and financial products, and AIA is known for life insurance and retirement planning\n",
            "FWD is known for insurance, Prudential is known for financial services, and AIA is known for life insurance.\n",
            "FWD is known for insurance, Prudential is known for financial services, and AIA is known for life insurance. score:  1.0\n"
          ]
        },
        {
          "data": {
            "text/plain": [
              "[0.5, 0.5, 1.0]"
            ]
          },
          "execution_count": 12,
          "metadata": {},
          "output_type": "execute_result"
        }
      ],
      "source": [
        "# Check that the gpt answers give a score of 1\n",
        "expectancy_tester.prompt_checking(\n",
        "    num_tests = 3,\n",
        "    func_call = azure_openai_gpt35,\n",
        "    func_checker = azure_openai_gpt35,\n",
        "    prompt = queries_dict[\"query_1\"][\"question\"],\n",
        "    expected_answer = queries_dict[\"query_1\"][\"expected_answer\"]\n",
        ")"
      ]
    },
    {
      "cell_type": "code",
      "execution_count": 13,
      "metadata": {},
      "outputs": [
        {
          "name": "stdout",
          "output_type": "stream",
          "text": [
            "FWD is known for insurance and financial services, Prudential is known for life insurance and financial products, and AIA is known for life insurance and retirement planning\n",
            "The best way to fight dehydration is to drink water\n",
            "The best way to fight dehydration is to drink water score:  0.0\n",
            "FWD is known for insurance and financial services, Prudential is known for life insurance and financial products, and AIA is known for life insurance and retirement planning\n",
            "The best way to fight dehydration is to drink water\n",
            "The best way to fight dehydration is to drink water score:  0.0\n",
            "FWD is known for insurance and financial services, Prudential is known for life insurance and financial products, and AIA is known for life insurance and retirement planning\n",
            "The best way to fight dehydration is to drink water\n",
            "The best way to fight dehydration is to drink water score:  0.0\n",
            "FWD is known for insurance and financial services, Prudential is known for life insurance and financial products, and AIA is known for life insurance and retirement planning\n",
            "FWD is known for insurance and financial services, Prudential is known for life insurance, and AIA is known for insurance and financial services.\n",
            "FWD is known for insurance and financial services, Prudential is known for life insurance, and AIA is known for insurance and financial services. score:  0.5\n",
            "FWD is known for insurance and financial services, Prudential is known for life insurance and financial products, and AIA is known for life insurance and retirement planning\n",
            "FWD is known for insurance and financial services, Prudential is known for life insurance and financial solutions, and AIA is known for insurance and wealth management.\n",
            "FWD is known for insurance and financial services, Prudential is known for life insurance and financial solutions, and AIA is known for insurance and wealth management. score:  0.5\n",
            "FWD is known for insurance and financial services, Prudential is known for life insurance and financial products, and AIA is known for life insurance and retirement planning\n",
            "FWD is known for insurance and financial services, Prudential is known for life insurance and financial products, and AIA is known for life insurance and retirement solutions.\n",
            "FWD is known for insurance and financial services, Prudential is known for life insurance and financial products, and AIA is known for life insurance and retirement solutions. score:  1.0\n"
          ]
        }
      ],
      "source": [
        "# Check that the irrelevant answers give a score of 0\n",
        "expectancy_false_results = expectancy_tester.prompt_checking(\n",
        "    num_tests = 3,\n",
        "    func_call = return_false,\n",
        "    func_checker = azure_openai_gpt35,\n",
        "    prompt = queries_dict[\"query_1\"][\"question\"],\n",
        "    expected_answer = queries_dict[\"query_1\"][\"expected_answer\"]\n",
        ")\n",
        "\n",
        "# Check that the gpt answers give a score of 1\n",
        "expectancy_gpt_results = expectancy_tester.prompt_checking(\n",
        "    num_tests = 3,\n",
        "    func_call = azure_openai_gpt35,\n",
        "    func_checker = azure_openai_gpt35,\n",
        "    prompt = queries_dict[\"query_1\"][\"question\"],\n",
        "    expected_answer = queries_dict[\"query_1\"][\"expected_answer\"]\n",
        ")"
      ]
    },
    {
      "cell_type": "code",
      "execution_count": 14,
      "metadata": {},
      "outputs": [
        {
          "data": {
            "text/plain": [
              "0.0"
            ]
          },
          "execution_count": 14,
          "metadata": {},
          "output_type": "execute_result"
        }
      ],
      "source": [
        "# Total score should give 0 for this question\n",
        "expectancy_tester.score(expectancy_false_results)"
      ]
    },
    {
      "cell_type": "code",
      "execution_count": 15,
      "metadata": {},
      "outputs": [
        {
          "data": {
            "text/plain": [
              "0.6666666666666666"
            ]
          },
          "execution_count": 15,
          "metadata": {},
          "output_type": "execute_result"
        }
      ],
      "source": [
        "# Total score should give between 0.5 and 1 for this question\n",
        "expectancy_tester.score(expectancy_gpt_results)"
      ]
    },
    {
      "cell_type": "code",
      "execution_count": 16,
      "metadata": {},
      "outputs": [
        {
          "name": "stdout",
          "output_type": "stream",
          "text": [
            "FWD is known for insurance and financial services, Prudential is known for life insurance and financial products, and AIA is known for life insurance and retirement planning\n",
            "FWD is known for insurance and financial services, Prudential is known for life insurance and investment products, and AIA is known for insurance and financial solutions.\n",
            "FWD is known for insurance and financial services, Prudential is known for life insurance and investment products, and AIA is known for insurance and financial solutions. score:  1.0\n",
            "FWD is known for insurance and financial services, Prudential is known for life insurance and financial products, and AIA is known for life insurance and retirement planning\n",
            "FWD is known for its innovative insurance solutions, Prudential is known for its financial services, and AIA is known for its life insurance products.\n",
            "FWD is known for its innovative insurance solutions, Prudential is known for its financial services, and AIA is known for its life insurance products. score:  0.5\n",
            "FWD is known for insurance and financial services, Prudential is known for life insurance and financial products, and AIA is known for life insurance and retirement planning\n",
            "FWD is known for insurance and financial services, Prudential for life insurance, and AIA for life and health insurance.\n",
            "FWD is known for insurance and financial services, Prudential for life insurance, and AIA for life and health insurance. score:  1.0\n",
            "As of September 2021, the CEO of AIA Group Limited is Lee Yuan Siong.\n",
            "As of September 2021, the CEO of AIA (AIA Group Limited) is Lee Yuan Siong.\n",
            "As of September 2021, the CEO of AIA (AIA Group Limited) is Lee Yuan Siong. score:  1.0\n",
            "As of September 2021, the CEO of AIA Group Limited is Lee Yuan Siong.\n",
            "As of September 2021, the CEO of AIA (American International Group) is Peter S. Zaffino.\n",
            "As of September 2021, the CEO of AIA (American International Group) is Peter S. Zaffino. score:  0.0\n",
            "As of September 2021, the CEO of AIA Group Limited is Lee Yuan Siong.\n",
            "As of my knowledge, as of October 2021, the CEO of AIA Group Limited is Lee Yuan Siong. However, please note that executive positions can change over time, so it is always a good idea to verify with the latest sources.\n",
            "As of my knowledge, as of October 2021, the CEO of AIA Group Limited is Lee Yuan Siong. However, please note that executive positions can change over time, so it is always a good idea to verify with the latest sources. score:  1.0\n",
            "According to Forbes, Elon Musk made approximately $11.6 billion in 2014\n",
            "According to Forbes, Elon Musk made approximately $662 million in 2014.\n",
            "According to Forbes, Elon Musk made approximately $662 million in 2014. score:  1.0\n",
            "According to Forbes, Elon Musk made approximately $11.6 billion in 2014\n",
            "According to Forbes, Elon Musk made approximately $11.6 billion in 2014.\n",
            "According to Forbes, Elon Musk made approximately $11.6 billion in 2014. score:  1.0\n",
            "According to Forbes, Elon Musk made approximately $11.6 billion in 2014\n",
            "In 2014, Elon Musk made a total of $1.00.\n",
            "In 2014, Elon Musk made a total of $1.00. score:  0.0\n"
          ]
        }
      ],
      "source": [
        "# This will test all the questions and return a dictionary with each question's individual expectancy score\n",
        "queries_dict_gpt_answers = expectancy_tester.append_scores(\n",
        "    queries_dict,\n",
        "    num_tests = 3,\n",
        "    func_call = azure_openai_gpt35,\n",
        "    func_checker = azure_openai_gpt35\n",
        ")"
      ]
    },
    {
      "cell_type": "code",
      "execution_count": 17,
      "metadata": {},
      "outputs": [
        {
          "data": {
            "text/plain": [
              "{'query_1': {'question': 'Tell me in a very short sentence what are FWD, Prudential and AIA known for?',\n",
              "  'expected_answer': 'FWD is known for insurance and financial services, Prudential is known for life insurance and financial products, and AIA is known for life insurance and retirement planning',\n",
              "  'expectancy_score': 0.8333333333333334},\n",
              " 'query_2': {'question': 'Who is the CEO of AIA?',\n",
              "  'expected_answer': 'As of September 2021, the CEO of AIA Group Limited is Lee Yuan Siong.',\n",
              "  'expectancy_score': 0.6666666666666666},\n",
              " 'query_3': {'question': 'How much money did Elon Musk make in 2014?',\n",
              "  'expected_answer': 'According to Forbes, Elon Musk made approximately $11.6 billion in 2014',\n",
              "  'expectancy_score': 0.6666666666666666}}"
            ]
          },
          "execution_count": 17,
          "metadata": {},
          "output_type": "execute_result"
        }
      ],
      "source": [
        "queries_dict_gpt_answers"
      ]
    },
    {
      "cell_type": "code",
      "execution_count": 18,
      "metadata": {},
      "outputs": [
        {
          "data": {
            "text/html": [
              "<div>\n",
              "<style scoped>\n",
              "    .dataframe tbody tr th:only-of-type {\n",
              "        vertical-align: middle;\n",
              "    }\n",
              "\n",
              "    .dataframe tbody tr th {\n",
              "        vertical-align: top;\n",
              "    }\n",
              "\n",
              "    .dataframe thead th {\n",
              "        text-align: right;\n",
              "    }\n",
              "</style>\n",
              "<table border=\"1\" class=\"dataframe\">\n",
              "  <thead>\n",
              "    <tr style=\"text-align: right;\">\n",
              "      <th></th>\n",
              "      <th>question</th>\n",
              "      <th>expected_answer</th>\n",
              "      <th>expectancy_score</th>\n",
              "    </tr>\n",
              "  </thead>\n",
              "  <tbody>\n",
              "    <tr>\n",
              "      <th>query_1</th>\n",
              "      <td>Tell me in a very short sentence what are FWD,...</td>\n",
              "      <td>FWD is known for insurance and financial servi...</td>\n",
              "      <td>0.833333</td>\n",
              "    </tr>\n",
              "    <tr>\n",
              "      <th>query_2</th>\n",
              "      <td>Who is the CEO of AIA?</td>\n",
              "      <td>As of September 2021, the CEO of AIA Group Lim...</td>\n",
              "      <td>0.666667</td>\n",
              "    </tr>\n",
              "    <tr>\n",
              "      <th>query_3</th>\n",
              "      <td>How much money did Elon Musk make in 2014?</td>\n",
              "      <td>According to Forbes, Elon Musk made approximat...</td>\n",
              "      <td>0.666667</td>\n",
              "    </tr>\n",
              "  </tbody>\n",
              "</table>\n",
              "</div>"
            ],
            "text/plain": [
              "                                                  question  \\\n",
              "query_1  Tell me in a very short sentence what are FWD,...   \n",
              "query_2                             Who is the CEO of AIA?   \n",
              "query_3         How much money did Elon Musk make in 2014?   \n",
              "\n",
              "                                           expected_answer  expectancy_score  \n",
              "query_1  FWD is known for insurance and financial servi...          0.833333  \n",
              "query_2  As of September 2021, the CEO of AIA Group Lim...          0.666667  \n",
              "query_3  According to Forbes, Elon Musk made approximat...          0.666667  "
            ]
          },
          "execution_count": 18,
          "metadata": {},
          "output_type": "execute_result"
        }
      ],
      "source": [
        "pd.DataFrame.from_dict(queries_dict_gpt_answers, orient='index')"
      ]
    },
    {
      "cell_type": "code",
      "execution_count": null,
      "metadata": {},
      "outputs": [],
      "source": []
    }
  ],
  "metadata": {
    "kernel_info": {
      "name": "python310-sdkv2"
    },
    "kernelspec": {
      "display_name": "Python 3.10 - SDK v2",
      "language": "python",
      "name": "python310-sdkv2"
    },
    "language_info": {
      "codemirror_mode": {
        "name": "ipython",
        "version": 3
      },
      "file_extension": ".py",
      "mimetype": "text/x-python",
      "name": "python",
      "nbconvert_exporter": "python",
      "pygments_lexer": "ipython3",
      "version": "3.10.11"
    },
    "microsoft": {
      "host": {
        "AzureML": {
          "notebookHasBeenCompleted": true
        }
      },
      "ms_spell_check": {
        "ms_spell_check_language": "en"
      }
    },
    "nteract": {
      "version": "nteract-front-end@1.0.0"
    }
  },
  "nbformat": 4,
  "nbformat_minor": 2
}
